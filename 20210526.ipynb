{
  "nbformat": 4,
  "nbformat_minor": 0,
  "metadata": {
    "anaconda-cloud": {},
    "kernelspec": {
      "display_name": "Python 3",
      "language": "python",
      "name": "python3"
    },
    "language_info": {
      "codemirror_mode": {
        "name": "ipython",
        "version": 3
      },
      "file_extension": ".py",
      "mimetype": "text/x-python",
      "name": "python",
      "nbconvert_exporter": "python",
      "pygments_lexer": "ipython3",
      "version": "3.5.3"
    },
    "colab": {
      "name": "20210526.ipynb",
      "provenance": [],
      "toc_visible": true,
      "include_colab_link": true
    }
  },
  "cells": [
    {
      "cell_type": "markdown",
      "metadata": {
        "id": "view-in-github",
        "colab_type": "text"
      },
      "source": [
        "<a href=\"https://colab.research.google.com/github/Hong03/IoT_pipeline/blob/master/20210526.ipynb\" target=\"_parent\"><img src=\"https://colab.research.google.com/assets/colab-badge.svg\" alt=\"Open In Colab\"/></a>"
      ]
    },
    {
      "cell_type": "markdown",
      "metadata": {
        "id": "QJZlvLB8ahDA"
      },
      "source": [
        "# 1. Import Library"
      ]
    },
    {
      "cell_type": "code",
      "metadata": {
        "id": "RX97R1pJahDD"
      },
      "source": [
        "from keras.datasets import mnist\n",
        "from keras.utils import np_utils\n",
        "import numpy as np\n",
        "np.random.seed(10)"
      ],
      "execution_count": 1,
      "outputs": []
    },
    {
      "cell_type": "markdown",
      "metadata": {
        "id": "8HpXbHzeahDE"
      },
      "source": [
        "# 資料預處理"
      ]
    },
    {
      "cell_type": "code",
      "metadata": {
        "id": "YjY8f2U_ahDF",
        "colab": {
          "base_uri": "https://localhost:8080/"
        },
        "outputId": "3a1094e2-0963-4b99-9549-cfc3b650f028"
      },
      "source": [
        "(x_Train, y_Train), (x_Test, y_Test) = mnist.load_data()"
      ],
      "execution_count": 2,
      "outputs": [
        {
          "output_type": "stream",
          "text": [
            "Downloading data from https://storage.googleapis.com/tensorflow/tf-keras-datasets/mnist.npz\n",
            "11493376/11490434 [==============================] - 0s 0us/step\n",
            "11501568/11490434 [==============================] - 0s 0us/step\n"
          ],
          "name": "stdout"
        }
      ]
    },
    {
      "cell_type": "code",
      "metadata": {
        "id": "PqfAPgMzahDF"
      },
      "source": [
        "x_Train4D=x_Train.reshape(x_Train.shape[0],28,28,1).astype('float32')\n",
        "x_Test4D=x_Test.reshape(x_Test.shape[0],28,28,1).astype('float32')"
      ],
      "execution_count": 3,
      "outputs": []
    },
    {
      "cell_type": "code",
      "metadata": {
        "collapsed": true,
        "id": "wmCDvYy5ahDF"
      },
      "source": [
        "x_Train4D_normalize = x_Train4D / 255\n",
        "x_Test4D_normalize = x_Test4D / 255"
      ],
      "execution_count": 4,
      "outputs": []
    },
    {
      "cell_type": "code",
      "metadata": {
        "collapsed": true,
        "id": "i9iyWrQ7ahDG"
      },
      "source": [
        "y_TrainOneHot = np_utils.to_categorical(y_Train)\n",
        "y_TestOneHot = np_utils.to_categorical(y_Test)"
      ],
      "execution_count": 5,
      "outputs": []
    },
    {
      "cell_type": "markdown",
      "metadata": {
        "id": "9qkQJiY4ahDG"
      },
      "source": [
        "# 建立模型"
      ]
    },
    {
      "cell_type": "code",
      "metadata": {
        "collapsed": true,
        "id": "UsIpChd6ahDG"
      },
      "source": [
        "from keras.models import Sequential\n",
        "from keras.layers import Dense,Dropout,Flatten,Conv2D,MaxPooling2D"
      ],
      "execution_count": 6,
      "outputs": []
    },
    {
      "cell_type": "code",
      "metadata": {
        "collapsed": true,
        "id": "_LMl-uoVahDG"
      },
      "source": [
        "model = Sequential()"
      ],
      "execution_count": 7,
      "outputs": []
    },
    {
      "cell_type": "code",
      "metadata": {
        "id": "fp7SjnvtahDH"
      },
      "source": [
        "model.add(Conv2D(filters=16,\n",
        "                 kernel_size=(5,5),\n",
        "                 padding='same',\n",
        "                 input_shape=(28,28,1), \n",
        "                 activation='relu'))"
      ],
      "execution_count": 8,
      "outputs": []
    },
    {
      "cell_type": "code",
      "metadata": {
        "collapsed": true,
        "id": "C10gV_O8ahDH"
      },
      "source": [
        "model.add(MaxPooling2D(pool_size=(2, 2)))"
      ],
      "execution_count": 9,
      "outputs": []
    },
    {
      "cell_type": "code",
      "metadata": {
        "id": "AI29lTn4ahDH"
      },
      "source": [
        "model.add(Conv2D(filters=36,\n",
        "                 kernel_size=(5,5),\n",
        "                 padding='same',\n",
        "                 activation='relu'))"
      ],
      "execution_count": 10,
      "outputs": []
    },
    {
      "cell_type": "code",
      "metadata": {
        "collapsed": true,
        "id": "TsvQlxd-ahDI"
      },
      "source": [
        "model.add(MaxPooling2D(pool_size=(2, 2)))"
      ],
      "execution_count": 11,
      "outputs": []
    },
    {
      "cell_type": "code",
      "metadata": {
        "collapsed": true,
        "id": "7bRh3l2hahDI"
      },
      "source": [
        "model.add(Dropout(0.25))"
      ],
      "execution_count": 12,
      "outputs": []
    },
    {
      "cell_type": "code",
      "metadata": {
        "collapsed": true,
        "id": "rN88IZUCahDI"
      },
      "source": [
        "model.add(Flatten())"
      ],
      "execution_count": 13,
      "outputs": []
    },
    {
      "cell_type": "code",
      "metadata": {
        "collapsed": true,
        "id": "LhRC_wTUahDI"
      },
      "source": [
        "model.add(Dense(128, activation='relu'))"
      ],
      "execution_count": 14,
      "outputs": []
    },
    {
      "cell_type": "code",
      "metadata": {
        "collapsed": true,
        "id": "0_a1MMi_ahDI"
      },
      "source": [
        "model.add(Dropout(0.5))"
      ],
      "execution_count": 15,
      "outputs": []
    },
    {
      "cell_type": "code",
      "metadata": {
        "collapsed": true,
        "id": "g30TB4aJahDJ"
      },
      "source": [
        "model.add(Dense(10,activation='softmax'))"
      ],
      "execution_count": 16,
      "outputs": []
    },
    {
      "cell_type": "code",
      "metadata": {
        "id": "pkvsyxEtahDJ",
        "colab": {
          "base_uri": "https://localhost:8080/"
        },
        "outputId": "7cf27418-3cac-4da1-aa03-a31ae012a561"
      },
      "source": [
        "print(model.summary())"
      ],
      "execution_count": 17,
      "outputs": [
        {
          "output_type": "stream",
          "text": [
            "Model: \"sequential\"\n",
            "_________________________________________________________________\n",
            "Layer (type)                 Output Shape              Param #   \n",
            "=================================================================\n",
            "conv2d (Conv2D)              (None, 28, 28, 16)        416       \n",
            "_________________________________________________________________\n",
            "max_pooling2d (MaxPooling2D) (None, 14, 14, 16)        0         \n",
            "_________________________________________________________________\n",
            "conv2d_1 (Conv2D)            (None, 14, 14, 36)        14436     \n",
            "_________________________________________________________________\n",
            "max_pooling2d_1 (MaxPooling2 (None, 7, 7, 36)          0         \n",
            "_________________________________________________________________\n",
            "dropout (Dropout)            (None, 7, 7, 36)          0         \n",
            "_________________________________________________________________\n",
            "flatten (Flatten)            (None, 1764)              0         \n",
            "_________________________________________________________________\n",
            "dense (Dense)                (None, 128)               225920    \n",
            "_________________________________________________________________\n",
            "dropout_1 (Dropout)          (None, 128)               0         \n",
            "_________________________________________________________________\n",
            "dense_1 (Dense)              (None, 10)                1290      \n",
            "=================================================================\n",
            "Total params: 242,062\n",
            "Trainable params: 242,062\n",
            "Non-trainable params: 0\n",
            "_________________________________________________________________\n",
            "None\n"
          ],
          "name": "stdout"
        }
      ]
    },
    {
      "cell_type": "markdown",
      "metadata": {
        "id": "qOjm3AU7ahDJ"
      },
      "source": [
        "# 訓練模型"
      ]
    },
    {
      "cell_type": "code",
      "metadata": {
        "id": "ZUrb2wJyahDJ"
      },
      "source": [
        "model.compile(loss='categorical_crossentropy',\n",
        "              optimizer='adam',metrics=['accuracy']) "
      ],
      "execution_count": 18,
      "outputs": []
    },
    {
      "cell_type": "code",
      "metadata": {
        "id": "Ka_98BRIahDJ",
        "colab": {
          "base_uri": "https://localhost:8080/"
        },
        "outputId": "9662427a-8e13-4983-9f19-3248cfb59aba"
      },
      "source": [
        "train_history=model.fit(x=x_Train4D_normalize, \n",
        "                        y=y_TrainOneHot,validation_split=0.2, \n",
        "                        epochs=20, batch_size=300,verbose=2)"
      ],
      "execution_count": null,
      "outputs": [
        {
          "output_type": "stream",
          "text": [
            "Epoch 1/20\n",
            "160/160 - 67s - loss: 0.4780 - accuracy: 0.8503 - val_loss: 0.0989 - val_accuracy: 0.9713\n",
            "Epoch 2/20\n",
            "160/160 - 51s - loss: 0.1330 - accuracy: 0.9606 - val_loss: 0.0642 - val_accuracy: 0.9808\n",
            "Epoch 3/20\n",
            "160/160 - 51s - loss: 0.0999 - accuracy: 0.9704 - val_loss: 0.0522 - val_accuracy: 0.9851\n",
            "Epoch 4/20\n",
            "160/160 - 51s - loss: 0.0809 - accuracy: 0.9761 - val_loss: 0.0479 - val_accuracy: 0.9859\n",
            "Epoch 5/20\n",
            "160/160 - 51s - loss: 0.0696 - accuracy: 0.9794 - val_loss: 0.0437 - val_accuracy: 0.9872\n",
            "Epoch 6/20\n",
            "160/160 - 51s - loss: 0.0617 - accuracy: 0.9813 - val_loss: 0.0417 - val_accuracy: 0.9884\n",
            "Epoch 7/20\n",
            "160/160 - 51s - loss: 0.0547 - accuracy: 0.9836 - val_loss: 0.0377 - val_accuracy: 0.9896\n",
            "Epoch 8/20\n",
            "160/160 - 51s - loss: 0.0472 - accuracy: 0.9861 - val_loss: 0.0401 - val_accuracy: 0.9884\n",
            "Epoch 9/20\n",
            "160/160 - 51s - loss: 0.0436 - accuracy: 0.9863 - val_loss: 0.0354 - val_accuracy: 0.9902\n",
            "Epoch 10/20\n",
            "160/160 - 50s - loss: 0.0426 - accuracy: 0.9870 - val_loss: 0.0350 - val_accuracy: 0.9908\n",
            "Epoch 11/20\n",
            "160/160 - 51s - loss: 0.0367 - accuracy: 0.9885 - val_loss: 0.0326 - val_accuracy: 0.9918\n",
            "Epoch 12/20\n",
            "160/160 - 50s - loss: 0.0337 - accuracy: 0.9899 - val_loss: 0.0339 - val_accuracy: 0.9911\n",
            "Epoch 13/20\n",
            "160/160 - 50s - loss: 0.0315 - accuracy: 0.9904 - val_loss: 0.0326 - val_accuracy: 0.9916\n",
            "Epoch 14/20\n",
            "160/160 - 50s - loss: 0.0296 - accuracy: 0.9905 - val_loss: 0.0307 - val_accuracy: 0.9921\n",
            "Epoch 15/20\n",
            "160/160 - 50s - loss: 0.0301 - accuracy: 0.9901 - val_loss: 0.0316 - val_accuracy: 0.9915\n",
            "Epoch 16/20\n"
          ],
          "name": "stdout"
        }
      ]
    },
    {
      "cell_type": "code",
      "metadata": {
        "collapsed": true,
        "id": "TjNJjKU8ahDK"
      },
      "source": [
        "import matplotlib.pyplot as plt\n",
        "def show_train_history(train_acc,test_acc):\n",
        "    plt.plot(train_history.history[train_acc])\n",
        "    plt.plot(train_history.history[test_acc])\n",
        "    plt.title('Train History')\n",
        "    plt.ylabel('Accuracy')\n",
        "    plt.xlabel('Epoch')\n",
        "    plt.legend(['train', 'test'], loc='upper left')\n",
        "    plt.show()"
      ],
      "execution_count": null,
      "outputs": []
    },
    {
      "cell_type": "code",
      "metadata": {
        "id": "5aQUE_KdahDK"
      },
      "source": [
        "show_train_history('acc','val_acc')"
      ],
      "execution_count": null,
      "outputs": []
    },
    {
      "cell_type": "code",
      "metadata": {
        "id": "0bE9ufh5ahDK"
      },
      "source": [
        "show_train_history('loss','val_loss')"
      ],
      "execution_count": null,
      "outputs": []
    },
    {
      "cell_type": "markdown",
      "metadata": {
        "id": "Svb_J17eahDK"
      },
      "source": [
        "# 評估模型準確率"
      ]
    },
    {
      "cell_type": "code",
      "metadata": {
        "id": "IBF3u8FtahDL"
      },
      "source": [
        "scores = model.evaluate(x_Test4D_normalize , y_TestOneHot)\n",
        "scores[1]"
      ],
      "execution_count": null,
      "outputs": []
    },
    {
      "cell_type": "markdown",
      "metadata": {
        "id": "_bYXLun6ahDL"
      },
      "source": [
        "# 預測結果"
      ]
    },
    {
      "cell_type": "code",
      "metadata": {
        "id": "2xp_kUR_ahDL"
      },
      "source": [
        "prediction=model.predict_classes(x_Test4D_normalize)"
      ],
      "execution_count": null,
      "outputs": []
    },
    {
      "cell_type": "code",
      "metadata": {
        "id": "6oCXNRRTahDL"
      },
      "source": [
        "prediction[:10]"
      ],
      "execution_count": null,
      "outputs": []
    },
    {
      "cell_type": "markdown",
      "metadata": {
        "id": "7xTfS5F0ahDM"
      },
      "source": [
        "# confusion matrix"
      ]
    },
    {
      "cell_type": "code",
      "metadata": {
        "id": "6FmsF3JRahDN"
      },
      "source": [
        "import pandas as pd\n",
        "pd.crosstab(y_Test,prediction,\n",
        "            rownames=['label'],colnames=['predict'])"
      ],
      "execution_count": null,
      "outputs": []
    }
  ]
}